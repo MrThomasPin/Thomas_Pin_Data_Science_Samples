{
 "cells": [
  {
   "cell_type": "markdown",
   "metadata": {},
   "source": [
    "# AB Testing Sample "
   ]
  },
  {
   "cell_type": "markdown",
   "metadata": {},
   "source": [
    "by Thomas Pin"
   ]
  },
  {
   "cell_type": "markdown",
   "metadata": {},
   "source": [
    "Adapted from UBC DSCI 554: Experimentation and Causal Inference Assignment 1 & 2"
   ]
  },
  {
   "cell_type": "markdown",
   "metadata": {},
   "source": [
    "## Montana State University Library Landing Page"
   ]
  },
  {
   "cell_type": "code",
   "execution_count": 1,
   "metadata": {},
   "outputs": [],
   "source": [
    "#load packages \n",
    "suppressPackageStartupMessages(library(tidyverse))"
   ]
  },
  {
   "cell_type": "markdown",
   "metadata": {},
   "source": [
    "Finding free Google Analytics Click-Through-Rate information is rare due to its proprietary nature. However, using information from Scott Young’s paper ***Improving Library User Experience with A/B Testing: Principles and Process*** which includes a small freely available dataset to conduct A/B test on."
   ]
  },
  {
   "cell_type": "markdown",
   "metadata": {},
   "source": [
    "Young conducted four variations on the landing page of the University of Montana Library. Below is an image of the landing page and the area within the red box is where A/B testing would be conducted. "
   ]
  },
  {
   "cell_type": "markdown",
   "metadata": {},
   "source": [
    "![](../img/AB_Testing/01_landing_page.png)"
   ]
  },
  {
   "cell_type": "markdown",
   "metadata": {},
   "source": [
    "![](../img/AB_Testing/02_var.png)"
   ]
  },
  {
   "cell_type": "markdown",
   "metadata": {},
   "source": [
    "**Data**"
   ]
  },
  {
   "cell_type": "markdown",
   "metadata": {},
   "source": [
    "To download the necessery data please follow the link download the file Crazy Egg data and put it into the data folder.\n",
    "\n",
    "[data link (Crazy Egg data)](https://scholarworks.montana.edu/xmlui/handle/1/3507)"
   ]
  },
  {
   "cell_type": "code",
   "execution_count": 18,
   "metadata": {},
   "outputs": [],
   "source": [
    "## Load Data \n",
    "interact <- suppressWarnings(read_csv(\"../data/CrazyEgg/Homepage Version 1 - Interact, 5-29-2013/Element list Homepage Version 1 - Interact, 5-29-2013.csv\", col_types = cols()))\n",
    "connect <- suppressWarnings(read_csv(\"../data/CrazyEgg/Homepage Version 2 - Connect, 5-29-2013/Element list Homepage Version 2 - Connect, 5-29-2013.csv\", col_types = cols()))\n",
    "learn <- suppressWarnings(read_csv(\"../data/CrazyEgg/Homepage Version 3 - Learn, 5-29-2013/Element list Homepage Version 3 - Learn, 5-29-2013.csv\", col_types = cols()))\n",
    "help <- suppressWarnings(read_csv(\"../data/CrazyEgg/Homepage Version 4 - Help, 5-29-2013/Element list Homepage Version 4 - Help, 5-29-2013.csv\", col_types = cols()))\n",
    "services <- suppressWarnings(read_csv(\"../data/CrazyEgg/Homepage Version 5 - Services, 5-29-2013/Element list Homepage Version 5 - Services, 5-29-2013.csv\", col_types = cols()))"
   ]
  },
  {
   "cell_type": "markdown",
   "metadata": {},
   "source": [
    "**Wrangle**"
   ]
  },
  {
   "cell_type": "code",
   "execution_count": 27,
   "metadata": {},
   "outputs": [],
   "source": [
    "#Wrangle data\n",
    "intract_clicks <- interact %>% \n",
    "    filter(`Name` == \"INTERACT\") %>% \n",
    "    select(`No. clicks`)\n",
    "intract_clicks <- intract_clicks[[1]]\n",
    "interact_total_clicks <- sum(interact$`No. clicks`)\n",
    "\n",
    "connect_clicks <- connect %>% \n",
    "    filter(`Name` == \"CONNECT\") %>% \n",
    "    select(`No. clicks`)\n",
    "connect_clicks <- connect_clicks[[1]]\n",
    "connect_total_clicks <- sum(connect$`No. clicks`)\n",
    "\n",
    "learn_clicks <- learn %>% \n",
    "    filter(`Name` == \"LEARN\") %>% \n",
    "    select(`No. clicks`)\n",
    "learn_clicks <- learn_clicks[[1]]\n",
    "learn_total_clicks <- sum(learn$`No. clicks`)\n",
    "\n",
    "help_clicks <- help %>% \n",
    "    filter(`Name` == \"HELP\") %>% \n",
    "    select(`No. clicks`)\n",
    "help_clicks <- help_clicks[[1]]\n",
    "help_total_clicks <- sum(help$`No. clicks`)\n",
    "\n",
    "services_clicks <- services %>% \n",
    "    filter(`Name` == \"SERVICES\") %>% \n",
    "    select(`No. clicks`)\n",
    "services_clicks <- services_clicks[[1]]\n",
    "services_total_clicks <- sum(services$`No. clicks`)\n",
    "ab_test <- tibble(element = c(\"Interact\", \"Connect\", \"Learn\", \"Help\", \"Services\"),\n",
    "                  clicks = c(intract_clicks, connect_clicks, learn_clicks, help_clicks, services_clicks),\n",
    "                  total_clicks = c(interact_total_clicks, connect_total_clicks, learn_total_clicks, help_total_clicks, services_total_clicks))\n",
    "\n",
    "ab_test <- ab_test %>% \n",
    "    mutate(click_through_rate = clicks/total_clicks)\n",
    "\n",
    "sample_sd <- sd(ab_test$click_through_rate)\n",
    "\n",
    "ab_test <- ab_test %>% \n",
    "    mutate(low_ci = click_through_rate-(qt(0.975, df=total_clicks-1)*sample_sd/sqrt(total_clicks)),\n",
    "           upper_ci = click_through_rate+(qt(0.975, df=total_clicks-1)*sample_sd/sqrt(total_clicks)))\n",
    "\n",
    "ab_test$method <- c('Control', 'Variation', 'Variation', 'Variation', 'Variation')\n",
    "ab_test$element <- factor(ab_test$element, levels = ab_test$element[order(ab_test$click_through_rate)])"
   ]
  },
  {
   "cell_type": "code",
   "execution_count": 28,
   "metadata": {},
   "outputs": [],
   "source": [
    "ab_test$method <- c('Control', 'Variation', 'Variation', 'Variation', 'Variation')"
   ]
  },
  {
   "cell_type": "code",
   "execution_count": 29,
   "metadata": {
    "scrolled": true
   },
   "outputs": [
    {
     "data": {
      "text/html": [
       "<table>\n",
       "<caption>A tibble: 5 × 7</caption>\n",
       "<thead>\n",
       "\t<tr><th scope=col>element</th><th scope=col>clicks</th><th scope=col>total_clicks</th><th scope=col>click_through_rate</th><th scope=col>low_ci</th><th scope=col>upper_ci</th><th scope=col>method</th></tr>\n",
       "\t<tr><th scope=col>&lt;fct&gt;</th><th scope=col>&lt;dbl&gt;</th><th scope=col>&lt;dbl&gt;</th><th scope=col>&lt;dbl&gt;</th><th scope=col>&lt;dbl&gt;</th><th scope=col>&lt;dbl&gt;</th><th scope=col>&lt;chr&gt;</th></tr>\n",
       "</thead>\n",
       "<tbody>\n",
       "\t<tr><td>Interact</td><td>42</td><td>3714</td><td>0.01130856</td><td>0.01096419</td><td>0.01165293</td><td>Control  </td></tr>\n",
       "\t<tr><td>Connect </td><td>53</td><td>1587</td><td>0.03339635</td><td>0.03286930</td><td>0.03392339</td><td>Variation</td></tr>\n",
       "\t<tr><td>Learn   </td><td>21</td><td>1652</td><td>0.01271186</td><td>0.01219531</td><td>0.01322842</td><td>Variation</td></tr>\n",
       "\t<tr><td>Help    </td><td>38</td><td>1717</td><td>0.02213162</td><td>0.02162496</td><td>0.02263829</td><td>Variation</td></tr>\n",
       "\t<tr><td>Services</td><td>45</td><td>1348</td><td>0.03338279</td><td>0.03281085</td><td>0.03395473</td><td>Variation</td></tr>\n",
       "</tbody>\n",
       "</table>\n"
      ],
      "text/latex": [
       "A tibble: 5 × 7\n",
       "\\begin{tabular}{r|lllllll}\n",
       " element & clicks & total\\_clicks & click\\_through\\_rate & low\\_ci & upper\\_ci & method\\\\\n",
       " <fct> & <dbl> & <dbl> & <dbl> & <dbl> & <dbl> & <chr>\\\\\n",
       "\\hline\n",
       "\t Interact & 42 & 3714 & 0.01130856 & 0.01096419 & 0.01165293 & Control  \\\\\n",
       "\t Connect  & 53 & 1587 & 0.03339635 & 0.03286930 & 0.03392339 & Variation\\\\\n",
       "\t Learn    & 21 & 1652 & 0.01271186 & 0.01219531 & 0.01322842 & Variation\\\\\n",
       "\t Help     & 38 & 1717 & 0.02213162 & 0.02162496 & 0.02263829 & Variation\\\\\n",
       "\t Services & 45 & 1348 & 0.03338279 & 0.03281085 & 0.03395473 & Variation\\\\\n",
       "\\end{tabular}\n"
      ],
      "text/markdown": [
       "\n",
       "A tibble: 5 × 7\n",
       "\n",
       "| element &lt;fct&gt; | clicks &lt;dbl&gt; | total_clicks &lt;dbl&gt; | click_through_rate &lt;dbl&gt; | low_ci &lt;dbl&gt; | upper_ci &lt;dbl&gt; | method &lt;chr&gt; |\n",
       "|---|---|---|---|---|---|---|\n",
       "| Interact | 42 | 3714 | 0.01130856 | 0.01096419 | 0.01165293 | Control   |\n",
       "| Connect  | 53 | 1587 | 0.03339635 | 0.03286930 | 0.03392339 | Variation |\n",
       "| Learn    | 21 | 1652 | 0.01271186 | 0.01219531 | 0.01322842 | Variation |\n",
       "| Help     | 38 | 1717 | 0.02213162 | 0.02162496 | 0.02263829 | Variation |\n",
       "| Services | 45 | 1348 | 0.03338279 | 0.03281085 | 0.03395473 | Variation |\n",
       "\n"
      ],
      "text/plain": [
       "  element  clicks total_clicks click_through_rate low_ci     upper_ci  \n",
       "1 Interact 42     3714         0.01130856         0.01096419 0.01165293\n",
       "2 Connect  53     1587         0.03339635         0.03286930 0.03392339\n",
       "3 Learn    21     1652         0.01271186         0.01219531 0.01322842\n",
       "4 Help     38     1717         0.02213162         0.02162496 0.02263829\n",
       "5 Services 45     1348         0.03338279         0.03281085 0.03395473\n",
       "  method   \n",
       "1 Control  \n",
       "2 Variation\n",
       "3 Variation\n",
       "4 Variation\n",
       "5 Variation"
      ]
     },
     "metadata": {},
     "output_type": "display_data"
    }
   ],
   "source": [
    "ab_test"
   ]
  },
  {
   "cell_type": "markdown",
   "metadata": {},
   "source": [
    "**Visualization**"
   ]
  },
  {
   "cell_type": "code",
   "execution_count": 38,
   "metadata": {
    "scrolled": false
   },
   "outputs": [
    {
     "data": {
      "image/png": "[encoded data removed]",
      "text/plain": [
       "plot without title"
      ]
     },
     "metadata": {},
     "output_type": "display_data"
    }
   ],
   "source": [
    "##Visualization\n",
    "\n",
    "#set colour palette\n",
    "cbp1 <- c(\"#E69F00\", \"#56B4E9\", \"#009E73\",\n",
    "          \"#F0E442\", \"#0072B2\", \"#D55E00\", \"#CC79A7\")\n",
    "\n",
    "\n",
    "#plot\n",
    "ggplot(ab_test, aes(element, click_through_rate, color=method))+\n",
    "    geom_point()+\n",
    "    geom_errorbar(aes(ymin = low_ci, ymax = upper_ci))+\n",
    "    xlab(\"Webpage version\") +\n",
    "    ylab(\"Click-through rate\")+\n",
    "    ggtitle(\"Montana State University Library\")+\n",
    "    theme_minimal()+\n",
    "    scale_colour_manual(values = cbp1)"
   ]
  },
  {
   "cell_type": "markdown",
   "metadata": {},
   "source": [
    "**Analysis**"
   ]
  },
  {
   "cell_type": "code",
   "execution_count": 40,
   "metadata": {},
   "outputs": [
    {
     "data": {
      "text/html": [
       "<table>\n",
       "<caption>A tibble: 3 × 4</caption>\n",
       "<thead>\n",
       "\t<tr><th scope=col>element</th><th scope=col>click_through_rate</th><th scope=col>pval</th><th scope=col>adj_pval</th></tr>\n",
       "\t<tr><th scope=col>&lt;fct&gt;</th><th scope=col>&lt;dbl&gt;</th><th scope=col>&lt;dbl&gt;</th><th scope=col>&lt;dbl&gt;</th></tr>\n",
       "</thead>\n",
       "<tbody>\n",
       "\t<tr><td>Connect </td><td>0.03339635</td><td>5.367677e-08</td><td>2.147071e-07</td></tr>\n",
       "\t<tr><td>Help    </td><td>0.02213162</td><td>3.103059e-03</td><td>1.241223e-02</td></tr>\n",
       "\t<tr><td>Services</td><td>0.03338279</td><td>1.798089e-07</td><td>7.192358e-07</td></tr>\n",
       "</tbody>\n",
       "</table>\n"
      ],
      "text/latex": [
       "A tibble: 3 × 4\n",
       "\\begin{tabular}{r|llll}\n",
       " element & click\\_through\\_rate & pval & adj\\_pval\\\\\n",
       " <fct> & <dbl> & <dbl> & <dbl>\\\\\n",
       "\\hline\n",
       "\t Connect  & 0.03339635 & 5.367677e-08 & 2.147071e-07\\\\\n",
       "\t Help     & 0.02213162 & 3.103059e-03 & 1.241223e-02\\\\\n",
       "\t Services & 0.03338279 & 1.798089e-07 & 7.192358e-07\\\\\n",
       "\\end{tabular}\n"
      ],
      "text/markdown": [
       "\n",
       "A tibble: 3 × 4\n",
       "\n",
       "| element &lt;fct&gt; | click_through_rate &lt;dbl&gt; | pval &lt;dbl&gt; | adj_pval &lt;dbl&gt; |\n",
       "|---|---|---|---|\n",
       "| Connect  | 0.03339635 | 5.367677e-08 | 2.147071e-07 |\n",
       "| Help     | 0.02213162 | 3.103059e-03 | 1.241223e-02 |\n",
       "| Services | 0.03338279 | 1.798089e-07 | 7.192358e-07 |\n",
       "\n"
      ],
      "text/plain": [
       "  element  click_through_rate pval         adj_pval    \n",
       "1 Connect  0.03339635         5.367677e-08 2.147071e-07\n",
       "2 Help     0.02213162         3.103059e-03 1.241223e-02\n",
       "3 Services 0.03338279         1.798089e-07 7.192358e-07"
      ]
     },
     "metadata": {},
     "output_type": "display_data"
    }
   ],
   "source": [
    "##Analysis\n",
    "\n",
    "ab_test_compairson <- ab_test %>% \n",
    "    filter(element != \"Interact\")\n",
    "\n",
    "#calcuate pvalues\n",
    "connect_pvalue = prop.test(x = c(intract_clicks, connect_clicks),\n",
    "                           n=c(interact_total_clicks, connect_total_clicks))\n",
    "connect_pvalue <- connect_pvalue$p.value\n",
    "\n",
    "learn_pvalue = prop.test(x = c(intract_clicks, learn_clicks),\n",
    "                           n=c(interact_total_clicks, learn_total_clicks))\n",
    "learn_pvalue <- learn_pvalue$p.value\n",
    "\n",
    "help_pvalue = prop.test(x = c(intract_clicks, help_clicks),\n",
    "                           n = c(interact_total_clicks, help_total_clicks))\n",
    "help_pvalue <- help_pvalue$p.value\n",
    "\n",
    "services_pvalue = prop.test(x = c(intract_clicks, services_clicks),\n",
    "                           n = c(interact_total_clicks, services_total_clicks))\n",
    "services_pvalue <- services_pvalue$p.value\n",
    "\n",
    "#combind and adjust for multiple hypothesis testing\n",
    "ab_test_compairson <- ab_test_compairson %>%\n",
    "    mutate(pval = c(connect_pvalue, learn_pvalue, help_pvalue, services_pvalue)) %>%\n",
    "    mutate(adj_pval = p.adjust(pval, method = \"bonferroni\"))\n",
    "\n",
    "#filter for pvalue lesss than .05\n",
    "ab_test_compairson %>% \n",
    "    select(element, click_through_rate, pval, adj_pval) %>% \n",
    "    filter(adj_pval <= .05)"
   ]
  },
  {
   "attachments": {},
   "cell_type": "markdown",
   "metadata": {},
   "source": [
    "**Conclusion**\n",
    "\n",
    "> Young concludes that the library should select “service” as the new default: However, from our analysis above our statistically significant variances are “connect”, “help” or “services”. I recommend either “connect” or “service” become the new replacement for \"interact\" on the landing page."
   ]
  },
  {
   "cell_type": "markdown",
   "metadata": {},
   "source": [
    "Reference:\n",
    "\n",
    "- [Scott W. H. Young Improving Library User Experience with A/B Testing: Principles and Process](https://quod.lib.umich.edu/w/weave/12535642.0001.101?view=text;rgn=main)"
   ]
  },
  {
   "cell_type": "markdown",
   "metadata": {},
   "source": [
    "## MDS Landing Page"
   ]
  },
  {
   "cell_type": "markdown",
   "metadata": {},
   "source": [
    "The UBC Master of Data Science Program served the following four ads for a four month Facebook campaign. "
   ]
  },
  {
   "cell_type": "markdown",
   "metadata": {},
   "source": [
    "![](../img/AB_Testing/03_ABfacebook_ads.png)"
   ]
  },
  {
   "cell_type": "code",
   "execution_count": 51,
   "metadata": {},
   "outputs": [
    {
     "data": {
      "text/html": [
       "<table>\n",
       "<caption>A tibble: 4 × 6</caption>\n",
       "<thead>\n",
       "\t<tr><th scope=col>ad_variant</th><th scope=col>impressions</th><th scope=col>clicks</th><th scope=col>click_through_rate</th><th scope=col>video</th><th scope=col>cta</th></tr>\n",
       "\t<tr><th scope=col>&lt;chr&gt;</th><th scope=col>&lt;dbl&gt;</th><th scope=col>&lt;dbl&gt;</th><th scope=col>&lt;dbl&gt;</th><th scope=col>&lt;chr&gt;</th><th scope=col>&lt;chr&gt;</th></tr>\n",
       "</thead>\n",
       "<tbody>\n",
       "\t<tr><td>A</td><td>11921</td><td>152</td><td>0.0128</td><td>M</td><td>Apply Now </td></tr>\n",
       "\t<tr><td>B</td><td> 6747</td><td> 88</td><td>0.0130</td><td>M</td><td>Apply Now </td></tr>\n",
       "\t<tr><td>C</td><td> 2778</td><td> 22</td><td>0.0079</td><td>F</td><td>Apply Now </td></tr>\n",
       "\t<tr><td>D</td><td>29701</td><td>450</td><td>0.0152</td><td>F</td><td>Learn More</td></tr>\n",
       "</tbody>\n",
       "</table>\n"
      ],
      "text/latex": [
       "A tibble: 4 × 6\n",
       "\\begin{tabular}{r|llllll}\n",
       " ad\\_variant & impressions & clicks & click\\_through\\_rate & video & cta\\\\\n",
       " <chr> & <dbl> & <dbl> & <dbl> & <chr> & <chr>\\\\\n",
       "\\hline\n",
       "\t A & 11921 & 152 & 0.0128 & M & Apply Now \\\\\n",
       "\t B &  6747 &  88 & 0.0130 & M & Apply Now \\\\\n",
       "\t C &  2778 &  22 & 0.0079 & F & Apply Now \\\\\n",
       "\t D & 29701 & 450 & 0.0152 & F & Learn More\\\\\n",
       "\\end{tabular}\n"
      ],
      "text/markdown": [
       "\n",
       "A tibble: 4 × 6\n",
       "\n",
       "| ad_variant &lt;chr&gt; | impressions &lt;dbl&gt; | clicks &lt;dbl&gt; | click_through_rate &lt;dbl&gt; | video &lt;chr&gt; | cta &lt;chr&gt; |\n",
       "|---|---|---|---|---|---|\n",
       "| A | 11921 | 152 | 0.0128 | M | Apply Now  |\n",
       "| B |  6747 |  88 | 0.0130 | M | Apply Now  |\n",
       "| C |  2778 |  22 | 0.0079 | F | Apply Now  |\n",
       "| D | 29701 | 450 | 0.0152 | F | Learn More |\n",
       "\n"
      ],
      "text/plain": [
       "  ad_variant impressions clicks click_through_rate video cta       \n",
       "1 A          11921       152    0.0128             M     Apply Now \n",
       "2 B           6747        88    0.0130             M     Apply Now \n",
       "3 C           2778        22    0.0079             F     Apply Now \n",
       "4 D          29701       450    0.0152             F     Learn More"
      ]
     },
     "metadata": {},
     "output_type": "display_data"
    }
   ],
   "source": [
    "mds_ad <- tibble(ad_variant = c(\"A\", \"B\", \"C\", \"D\"),\n",
    "      impressions = c(11921, 6747, 2778, 29701),\n",
    "      clicks = c(152, 88, 22, 450),\n",
    "      click_through_rate = c(0.0128, 0.013, 0.0079, 0.0152))\n",
    "\n",
    "mds_ad <- mds_ad %>% add_column(video = c(\"M\", \"M\", \"F\", \"F\"), \n",
    "                      cta = c(\"Apply Now\", \"Apply Now\", \"Apply Now\", \"Learn More\"))\n",
    "mds_ad"
   ]
  },
  {
   "cell_type": "markdown",
   "metadata": {},
   "source": [
    "**Analysis on the Four Ads**"
   ]
  },
  {
   "cell_type": "code",
   "execution_count": 50,
   "metadata": {},
   "outputs": [
    {
     "data": {
      "text/plain": [
       "\n",
       "\tPairwise comparisons using Pairwise comparison of proportions \n",
       "\n",
       "data:  mds_ad$clicks out of mds_ad$impressions \n",
       "\n",
       "  1     2     3    \n",
       "2 0.918 -     -    \n",
       "3 0.215 0.215 -    \n",
       "4 0.215 0.430 0.018\n",
       "\n",
       "P value adjustment method: holm "
      ]
     },
     "metadata": {},
     "output_type": "display_data"
    }
   ],
   "source": [
    "pairwise.prop.test(mds_ad$clicks, mds_ad$impressions)"
   ]
  },
  {
   "cell_type": "markdown",
   "metadata": {},
   "source": [
    "Given the table above the only statistical difference between Ads are Ad C and Ad D. Therefore there is not enough statistical evidence to differentiate between the click through rate of B, C, and D.   "
   ]
  },
  {
   "cell_type": "markdown",
   "metadata": {},
   "source": [
    "**Video** "
   ]
  },
  {
   "attachments": {},
   "cell_type": "markdown",
   "metadata": {},
   "source": [
    "Next, we are going to check if there is a significant difference between the male in the video ad or female in the video add. "
   ]
  },
  {
   "cell_type": "code",
   "execution_count": 61,
   "metadata": {},
   "outputs": [],
   "source": [
    "#wrangle and group new table\n",
    "mds_ad_video <- mds_ad %>% \n",
    "    group_by(video) %>% \n",
    "    summarize(impressions = sum(impressions),\n",
    "              clicks = sum(clicks)) %>% \n",
    "    mutate(click_through_rate= clicks/impressions)"
   ]
  },
  {
   "cell_type": "code",
   "execution_count": 62,
   "metadata": {},
   "outputs": [
    {
     "data": {
      "text/html": [
       "<table>\n",
       "<caption>A tibble: 2 × 4</caption>\n",
       "<thead>\n",
       "\t<tr><th scope=col>video</th><th scope=col>impressions</th><th scope=col>clicks</th><th scope=col>click_through_rate</th></tr>\n",
       "\t<tr><th scope=col>&lt;chr&gt;</th><th scope=col>&lt;dbl&gt;</th><th scope=col>&lt;dbl&gt;</th><th scope=col>&lt;dbl&gt;</th></tr>\n",
       "</thead>\n",
       "<tbody>\n",
       "\t<tr><td>F</td><td>32479</td><td>472</td><td>0.01453247</td></tr>\n",
       "\t<tr><td>M</td><td>18668</td><td>240</td><td>0.01285622</td></tr>\n",
       "</tbody>\n",
       "</table>\n"
      ],
      "text/latex": [
       "A tibble: 2 × 4\n",
       "\\begin{tabular}{r|llll}\n",
       " video & impressions & clicks & click\\_through\\_rate\\\\\n",
       " <chr> & <dbl> & <dbl> & <dbl>\\\\\n",
       "\\hline\n",
       "\t F & 32479 & 472 & 0.01453247\\\\\n",
       "\t M & 18668 & 240 & 0.01285622\\\\\n",
       "\\end{tabular}\n"
      ],
      "text/markdown": [
       "\n",
       "A tibble: 2 × 4\n",
       "\n",
       "| video &lt;chr&gt; | impressions &lt;dbl&gt; | clicks &lt;dbl&gt; | click_through_rate &lt;dbl&gt; |\n",
       "|---|---|---|---|\n",
       "| F | 32479 | 472 | 0.01453247 |\n",
       "| M | 18668 | 240 | 0.01285622 |\n",
       "\n"
      ],
      "text/plain": [
       "  video impressions clicks click_through_rate\n",
       "1 F     32479       472    0.01453247        \n",
       "2 M     18668       240    0.01285622        "
      ]
     },
     "metadata": {},
     "output_type": "display_data"
    }
   ],
   "source": [
    "mds_ad_video"
   ]
  },
  {
   "cell_type": "code",
   "execution_count": 65,
   "metadata": {},
   "outputs": [
    {
     "name": "stdout",
     "output_type": "stream",
     "text": [
      "[1] \"The P-value significant's value for male or female: 0.1289\"\n"
     ]
    }
   ],
   "source": [
    "video_ptest <- prop.test(mds_ad_video$clicks, mds_ad_video$impressions)\n",
    "print(paste0(\"The P-value significant's value for male or female: \", round(video_ptest$p.value, 4)))"
   ]
  },
  {
   "cell_type": "markdown",
   "metadata": {},
   "source": [
    ">There is not enough statistical evidence to reject the null hypothesis that there is a difference between using a male or female subject in the ads. "
   ]
  },
  {
   "cell_type": "markdown",
   "metadata": {},
   "source": [
    "**Call To Action**"
   ]
  },
  {
   "attachments": {},
   "cell_type": "markdown",
   "metadata": {},
   "source": [
    "Finally, we are going to investigate if there is a statistical difference between using “Apply Now” and “Learn More” as the Call to Action button on the Ad.  "
   ]
  },
  {
   "cell_type": "code",
   "execution_count": 69,
   "metadata": {},
   "outputs": [],
   "source": [
    "mds_ad_cta <- mds_ad %>% \n",
    "    group_by(cta) %>% \n",
    "    summarize(impressions = sum(impressions),\n",
    "              clicks = sum(clicks)) %>% \n",
    "    mutate(click_through_rate= clicks/impressions)"
   ]
  },
  {
   "cell_type": "code",
   "execution_count": 70,
   "metadata": {},
   "outputs": [
    {
     "data": {
      "text/html": [
       "<table>\n",
       "<caption>A tibble: 2 × 4</caption>\n",
       "<thead>\n",
       "\t<tr><th scope=col>cta</th><th scope=col>impressions</th><th scope=col>clicks</th><th scope=col>click_through_rate</th></tr>\n",
       "\t<tr><th scope=col>&lt;chr&gt;</th><th scope=col>&lt;dbl&gt;</th><th scope=col>&lt;dbl&gt;</th><th scope=col>&lt;dbl&gt;</th></tr>\n",
       "</thead>\n",
       "<tbody>\n",
       "\t<tr><td>Apply Now </td><td>21446</td><td>262</td><td>0.01221673</td></tr>\n",
       "\t<tr><td>Learn More</td><td>29701</td><td>450</td><td>0.01515101</td></tr>\n",
       "</tbody>\n",
       "</table>\n"
      ],
      "text/latex": [
       "A tibble: 2 × 4\n",
       "\\begin{tabular}{r|llll}\n",
       " cta & impressions & clicks & click\\_through\\_rate\\\\\n",
       " <chr> & <dbl> & <dbl> & <dbl>\\\\\n",
       "\\hline\n",
       "\t Apply Now  & 21446 & 262 & 0.01221673\\\\\n",
       "\t Learn More & 29701 & 450 & 0.01515101\\\\\n",
       "\\end{tabular}\n"
      ],
      "text/markdown": [
       "\n",
       "A tibble: 2 × 4\n",
       "\n",
       "| cta &lt;chr&gt; | impressions &lt;dbl&gt; | clicks &lt;dbl&gt; | click_through_rate &lt;dbl&gt; |\n",
       "|---|---|---|---|\n",
       "| Apply Now  | 21446 | 262 | 0.01221673 |\n",
       "| Learn More | 29701 | 450 | 0.01515101 |\n",
       "\n"
      ],
      "text/plain": [
       "  cta        impressions clicks click_through_rate\n",
       "1 Apply Now  21446       262    0.01221673        \n",
       "2 Learn More 29701       450    0.01515101        "
      ]
     },
     "metadata": {},
     "output_type": "display_data"
    }
   ],
   "source": [
    "mds_ad_cta"
   ]
  },
  {
   "cell_type": "code",
   "execution_count": 72,
   "metadata": {},
   "outputs": [
    {
     "name": "stdout",
     "output_type": "stream",
     "text": [
      "[1] \"The P-value significant's value for Learn More or Apply Now: 0.0058\"\n"
     ]
    }
   ],
   "source": [
    "cta_ptest <- prop.test(mds_ad_cta$clicks, mds_ad_cta$impressions)\n",
    "print(paste0(\"The P-value significant's value for Learn More or Apply Now: \", round(cta_ptest$p.value, 4)))"
   ]
  },
  {
   "cell_type": "markdown",
   "metadata": {},
   "source": [
    ">There is enough statistical evidence to reject the null hypothesis that “Apply Now” and “Learn More” have the same click through rate. In future Facebook ads, the call to action should be “Learn More” instead of “Apply Now”. "
   ]
  },
  {
   "cell_type": "markdown",
   "metadata": {},
   "source": [
    "**Conclusion**"
   ]
  },
  {
   "cell_type": "markdown",
   "metadata": {},
   "source": [
    ">When designing ads there were four texts options, two video options (male and female) and two call to action options (Learn More and Apply Now). In future tests we should use sixteen different treatment groups to find the best combination of features. "
   ]
  },
  {
   "cell_type": "code",
   "execution_count": null,
   "metadata": {},
   "outputs": [],
   "source": []
  }
 ],
 "metadata": {
  "kernelspec": {
   "display_name": "R",
   "language": "R",
   "name": "ir"
  },
  "language_info": {
   "codemirror_mode": "r",
   "file_extension": ".r",
   "mimetype": "text/x-r-source",
   "name": "R",
   "pygments_lexer": "r",
   "version": "3.6.1"
  }
 },
 "nbformat": 4,
 "nbformat_minor": 4
}
